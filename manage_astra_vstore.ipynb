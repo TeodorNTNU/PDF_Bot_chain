{
 "cells": [
  {
   "cell_type": "code",
   "execution_count": 3,
   "metadata": {},
   "outputs": [
    {
     "ename": "ModuleNotFoundError",
     "evalue": "No module named 'langchain_astradb'",
     "output_type": "error",
     "traceback": [
      "\u001b[0;31m---------------------------------------------------------------------------\u001b[0m",
      "\u001b[0;31mModuleNotFoundError\u001b[0m                       Traceback (most recent call last)",
      "Cell \u001b[0;32mIn[3], line 1\u001b[0m\n\u001b[0;32m----> 1\u001b[0m \u001b[38;5;28;01mfrom\u001b[39;00m \u001b[38;5;21;01mlangchain_astradb\u001b[39;00m \u001b[38;5;28;01mimport\u001b[39;00m AstraDBVectorStore\n\u001b[1;32m      2\u001b[0m \u001b[38;5;28;01mfrom\u001b[39;00m \u001b[38;5;21;01mlangchain_openai\u001b[39;00m \u001b[38;5;28;01mimport\u001b[39;00m OpenAIEmbeddings\n\u001b[1;32m      3\u001b[0m \u001b[38;5;28;01mfrom\u001b[39;00m \u001b[38;5;21;01mastrapy\u001b[39;00m \u001b[38;5;28;01mimport\u001b[39;00m DataAPIClient\n",
      "\u001b[0;31mModuleNotFoundError\u001b[0m: No module named 'langchain_astradb'"
     ]
    }
   ],
   "source": [
    "from langchain_astradb import AstraDBVectorStore\n",
    "from langchain_openai import OpenAIEmbeddings\n",
    "from astrapy import DataAPIClient\n",
    "from dotenv import load_dotenv\n",
    "import os\n",
    "\n",
    "load_dotenv()\n",
    " \n",
    "OPENAI_API_KEY = os.getenv('OPENAI_API_KEY')\n",
    "ASTRA_TOKEN = os.getenv('ASTRA_TOKEN')\n",
    "ASTRA_ENDPOINT = os.getenv('ASTRA_ENDPOINT')\n",
    "ASTRA_NAMESPACE = os.getenv('ASTRA_NAMESPACE')\n",
    "\n",
    "COLLECTION = 'text_qa_pdf'\n",
    "\n",
    "\n",
    "client = DataAPIClient(ASTRA_TOKEN) \n",
    "db = client.get_database_by_api_endpoint(API_ENDPOINT,\n",
    "    namespace=NAMESPACE,\n",
    ")\n",
    "\n",
    "embedding = OpenAIEmbeddings(openai_api_key=OPENAI_API_KEY)\n",
    "\n",
    "vstore = AstraDBVectorStore(\n",
    "    embedding=embedding,\n",
    "    namespace=NAMESPACE,\n",
    "    collection_name=COLLECTION,  # Correct collection name\n",
    "    token=ASTRA_TOKEN,\n",
    "    api_endpoint=API_ENDPOINT\n",
    ")"
   ]
  }
 ],
 "metadata": {
  "kernelspec": {
   "display_name": "Python (myenv)",
   "language": "python",
   "name": "myvenv"
  },
  "language_info": {
   "codemirror_mode": {
    "name": "ipython",
    "version": 3
   },
   "file_extension": ".py",
   "mimetype": "text/x-python",
   "name": "python",
   "nbconvert_exporter": "python",
   "pygments_lexer": "ipython3",
   "version": "3.11.9"
  }
 },
 "nbformat": 4,
 "nbformat_minor": 2
}
